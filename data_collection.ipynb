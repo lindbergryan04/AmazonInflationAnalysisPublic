{
 "cells": [
  {
   "cell_type": "code",
   "execution_count": 1,
   "metadata": {},
   "outputs": [],
   "source": [
    "import requests\n",
    "import pandas as pd\n",
    "import numpy as np\n",
    "import json\n",
    "from pathlib import Path\n",
    "import keepa\n",
    "import datetime\n",
    "import matplotlib.pyplot as plt\n",
    "import math\n",
    "import os\n",
    "import keepa"
   ]
  },
  {
   "cell_type": "code",
   "execution_count": 13,
   "metadata": {},
   "outputs": [],
   "source": [
    "# function remove extra subcategories from each row and rename columns\n",
    "def clean_frame(df):\n",
    "    df = df.rename(columns = {'Title' : 'product_title', 'Categories: Sub' : 'subcategory', 'ASIN' : 'asin'})\n",
    "    def clean_row(row):\n",
    "        row['subcategory'] = row['subcategory'].split(',')[0].strip().lower()\n",
    "        return row\n",
    "    df = df.apply(clean_row, axis = 1)\n",
    "    \n",
    "    return df"
   ]
  },
  {
   "cell_type": "code",
   "execution_count": 14,
   "metadata": {},
   "outputs": [],
   "source": [
    "def keepa_time_to_datetime(kt):\n",
    "    # Convert Keepa time (minutes since 2011-01-01) to a Python datetime (UTC)\n",
    "    if isinstance(kt, datetime.datetime):\n",
    "        return kt\n",
    "    return datetime.datetime.fromtimestamp((kt + 21564000) * 60, datetime.timezone.utc)\n",
    "\n",
    "def generate_monthly_headers(days):\n",
    "    \"\"\"\n",
    "    Generate a list of month headers (strings) in the format 'YYYY-MM'\n",
    "    spanning from the current month back to the month that includes (now - days).\n",
    "    The headers are in ascending order. 2021-2025\n",
    "    This function standardizes which months we collect for each batch and ensures the columns are aligned.\n",
    "    \"\"\"\n",
    "    now = datetime.datetime.now(datetime.timezone.utc)\n",
    "    start_date = now - datetime.timedelta(days=days)\n",
    "    \n",
    "    headers = []\n",
    "    current_year = now.year\n",
    "    current_month = now.month\n",
    "\n",
    "    while True:\n",
    "        header = f\"{current_year:04d}-{current_month:02d}\"\n",
    "        headers.append(header)\n",
    "        # Move to the previous month\n",
    "        if current_month == 1:\n",
    "            current_month = 12\n",
    "            current_year -= 1\n",
    "        else:\n",
    "            current_month -= 1\n",
    "        \n",
    "        # Create a timezone-aware date for the first day of the new month.\n",
    "        month_start = datetime.datetime(current_year, current_month, 1, tzinfo=datetime.timezone.utc)\n",
    "        # Stop if this month is before the start_date.\n",
    "        if month_start < start_date:\n",
    "            break\n",
    "    return sorted(headers)\n",
    "\n",
    "\n",
    "def get_monthly_avg_prices(asins, days=1460):\n",
    "    \"\"\"\n",
    "    asins: list of ASIN strings\n",
    "    days: number of days of history (default 1460 ~ 4 years)\n",
    "    \n",
    "    Returns a DataFrame:\n",
    "        - Rows = ASINs\n",
    "        - Columns = monthly time periods (e.g. '2025-02', '2025-01', etc.)\n",
    "        - Values = average 'NEW' price for that month\n",
    "    \"\"\"\n",
    "    products = api.query(asins, days=days)\n",
    "    dfs = []\n",
    "    for product in products:\n",
    "        asin = product['asin']\n",
    "        price_history = product['data'].get('NEW', [])\n",
    "        time_history  = product['data'].get('NEW_time', [])\n",
    "        \n",
    "        dates = [keepa_time_to_datetime(t) for t in time_history]\n",
    "        prices = [p for p in price_history]\n",
    "        \n",
    "        df = pd.DataFrame({'date': dates, asin: prices})\n",
    "        df.set_index('date', inplace=True)\n",
    "        \n",
    "        # Resample to monthly average using month-end frequency\n",
    "        monthly_avg = df.resample('ME').mean()\n",
    "        dfs.append(monthly_avg)\n",
    "    \n",
    "    if not dfs:\n",
    "        return pd.DataFrame()\n",
    "    \n",
    "    # Combine and transpose so that rows = ASIN and columns = dates\n",
    "    combined = pd.concat(dfs, axis=1).T\n",
    "    # Convert datetime columns to string format 'YYYY-MM'\n",
    "    combined.columns = [col.strftime('%Y-%m') for col in combined.columns]\n",
    "    \n",
    "    # Generate the complete set of monthly headers (headers are in descending order)\n",
    "    headers = generate_monthly_headers(days)\n",
    "    \n",
    "    # Reindex with headers generated headers\n",
    "    combined = combined.reindex(columns=headers, fill_value=np.nan)\n",
    "    \n",
    "    # Forward fill missing values along the row (in chronological order)\n",
    "    combined = combined.ffill(axis=1)\n",
    "    \n",
    "    return combined\n",
    "\n",
    "\n",
    "def batch(iterable, n=20):\n",
    "    \"\"\"Yield successive n-sized chunks from iterable.\"\"\"\n",
    "    for i in range(0, len(iterable), n):\n",
    "        yield iterable[i:i + n]"
   ]
  },
  {
   "cell_type": "code",
   "execution_count": 15,
   "metadata": {},
   "outputs": [],
   "source": [
    "def query_keepa_in_batches(products, category, max_batches=10, batch_size=20,\n",
    "                           days=365 * 4, start_index=0, stop_index=None):\n",
    "    \"\"\"\n",
    "    Query Keepa for monthly average prices in batches and incrementally save \n",
    "    the *merged* results (column-aligned) to a CSV file.\n",
    "    \"\"\"\n",
    "    # Slice the ASIN list based on start_index and stop_index.\n",
    "    asins = list(products['asin'])[start_index:stop_index]\n",
    "    csv_file = f'data/asin_prices/{category}_monthly_prices.csv'\n",
    "    for i, asin_batch in enumerate(batch(asins, batch_size)):\n",
    "        if i >= max_batches:\n",
    "            break\n",
    "        df_batch = get_monthly_avg_prices(asin_batch, days=days)\n",
    "        if df_batch.empty:\n",
    "            print(f\"Batch {i+1} returned no data; skipping.\")\n",
    "            continue\n",
    "        # If the CSV file exists, read it, merge columns, then write back\n",
    "        if os.path.exists(csv_file):\n",
    "            existing_df = pd.read_csv(csv_file, index_col=0)\n",
    "            \n",
    "            # Merge on row index (ASIN) and combine columns (outer join).\n",
    "            # combine_first() will fill missing entries in existing_df with df_batch values.\n",
    "            merged_df = existing_df.combine_first(df_batch)\n",
    "            \n",
    "            # Ensure columns are in the correct order (descending monthly headers).\n",
    "            # This step uses the same monthly headers function to reindex.\n",
    "            headers = generate_monthly_headers(days)\n",
    "            merged_df = merged_df.reindex(columns=headers, fill_value=np.nan)\n",
    "            \n",
    "            merged_df.to_csv(csv_file, index=True)\n",
    "        else:\n",
    "            # If no CSV yet, just write df_batch as the first chunk\n",
    "            df_batch.to_csv(csv_file, index=True)\n",
    "        \n",
    "        print(f\"Batch {i+1} processed and merged.\")\n",
    "\n",
    "\n",
    "# Example helper function to split the ASIN list into batches.\n",
    "def batch(iterable, n=20): # 20 is default batch size\n",
    "    \"\"\"Yield successive n-sized chunks from iterable\"\"\"\n",
    "    for i in range(0, len(iterable), n):\n",
    "        yield iterable[i:i + n]"
   ]
  },
  {
   "cell_type": "code",
   "execution_count": 16,
   "metadata": {},
   "outputs": [],
   "source": [
    "def clean_prices(df):\n",
    "    # Rename 'Unnamed: 0' to 'asin'\n",
    "    df = df.rename(columns={'Unnamed: 0': 'asin'})\n",
    "    \n",
    "    # Round every value in all columns except the first (asin) to 2 decimal places\n",
    "    df.iloc[:, 1:] = df.iloc[:, 1:].round(2)\n",
    "    \n",
    "    return df"
   ]
  },
  {
   "cell_type": "code",
   "execution_count": 43,
   "metadata": {},
   "outputs": [],
   "source": [
    "ACCESS_KEY = \"df2mtauj1tmrngcm95ubshd41fplpf2bfh1nba8s8hpd2m6golbbrj9bat7osb8o\" # do no share outside of private repo!!\n",
    "api = keepa.Keepa(ACCESS_KEY, timeout=30)"
   ]
  },
  {
   "cell_type": "code",
   "execution_count": 154,
   "metadata": {},
   "outputs": [],
   "source": [
    "category = 'health_and_household'\n",
    "data_path = Path('data/keepa_data') / f'{category}.csv'\n",
    "products = pd.read_csv(data_path)\n",
    "products = clean_frame(products)"
   ]
  },
  {
   "cell_type": "code",
   "execution_count": 156,
   "metadata": {},
   "outputs": [
    {
     "name": "stderr",
     "output_type": "stream",
     "text": [
      "100%|██████████| 20/20 [00:09<00:00,  2.17it/s]\n"
     ]
    },
    {
     "name": "stdout",
     "output_type": "stream",
     "text": [
      "Batch 1 processed and merged.\n"
     ]
    },
    {
     "name": "stderr",
     "output_type": "stream",
     "text": [
      "Waiting 76 seconds for additional tokens\n",
      "100%|██████████| 20/20 [01:33<00:00,  4.68s/it]\n"
     ]
    },
    {
     "name": "stdout",
     "output_type": "stream",
     "text": [
      "Batch 2 processed and merged.\n"
     ]
    },
    {
     "name": "stderr",
     "output_type": "stream",
     "text": [
      "Waiting 1183 seconds for additional tokens\n"
     ]
    },
    {
     "name": "stdout",
     "output_type": "stream",
     "text": [
      "Response from server: NOT_ENOUGH_TOKEN\n"
     ]
    },
    {
     "name": "stderr",
     "output_type": "stream",
     "text": [
      "Waiting 2 seconds for additional tokens\n",
      "100%|██████████| 20/20 [19:58<00:00, 59.94s/it]\n"
     ]
    },
    {
     "name": "stdout",
     "output_type": "stream",
     "text": [
      "Batch 3 processed and merged.\n"
     ]
    },
    {
     "name": "stderr",
     "output_type": "stream",
     "text": [
      "Waiting 1188 seconds for additional tokens\n"
     ]
    },
    {
     "name": "stdout",
     "output_type": "stream",
     "text": [
      "Response from server: NOT_ENOUGH_TOKEN\n"
     ]
    },
    {
     "name": "stderr",
     "output_type": "stream",
     "text": [
      "Waiting 2 seconds for additional tokens\n",
      "100%|██████████| 20/20 [19:57<00:00, 59.87s/it]\n"
     ]
    },
    {
     "name": "stdout",
     "output_type": "stream",
     "text": [
      "Batch 4 processed and merged.\n"
     ]
    },
    {
     "name": "stderr",
     "output_type": "stream",
     "text": [
      "Waiting 1195 seconds for additional tokens\n"
     ]
    },
    {
     "name": "stdout",
     "output_type": "stream",
     "text": [
      "Response from server: NOT_ENOUGH_TOKEN\n"
     ]
    },
    {
     "name": "stderr",
     "output_type": "stream",
     "text": [
      "Waiting 2 seconds for additional tokens\n",
      "100%|██████████| 20/20 [20:17<00:00, 60.85s/it]\n"
     ]
    },
    {
     "name": "stdout",
     "output_type": "stream",
     "text": [
      "Batch 5 processed and merged.\n"
     ]
    },
    {
     "name": "stderr",
     "output_type": "stream",
     "text": [
      "Waiting 1182 seconds for additional tokens\n"
     ]
    },
    {
     "name": "stdout",
     "output_type": "stream",
     "text": [
      "Response from server: NOT_ENOUGH_TOKEN\n"
     ]
    },
    {
     "name": "stderr",
     "output_type": "stream",
     "text": [
      "Waiting 2 seconds for additional tokens\n",
      "100%|██████████| 20/20 [19:50<00:00, 59.54s/it]\n"
     ]
    },
    {
     "name": "stdout",
     "output_type": "stream",
     "text": [
      "Batch 6 processed and merged.\n"
     ]
    },
    {
     "name": "stderr",
     "output_type": "stream",
     "text": [
      "Waiting 1195 seconds for additional tokens\n"
     ]
    },
    {
     "name": "stdout",
     "output_type": "stream",
     "text": [
      "Response from server: NOT_ENOUGH_TOKEN\n"
     ]
    },
    {
     "name": "stderr",
     "output_type": "stream",
     "text": [
      "Waiting 2 seconds for additional tokens\n",
      "100%|██████████| 20/20 [20:14<00:00, 60.74s/it]\n"
     ]
    },
    {
     "name": "stdout",
     "output_type": "stream",
     "text": [
      "Batch 7 processed and merged.\n"
     ]
    },
    {
     "name": "stderr",
     "output_type": "stream",
     "text": [
      "Waiting 1184 seconds for additional tokens\n"
     ]
    },
    {
     "name": "stdout",
     "output_type": "stream",
     "text": [
      "Response from server: NOT_ENOUGH_TOKEN\n"
     ]
    },
    {
     "name": "stderr",
     "output_type": "stream",
     "text": [
      "Waiting 2 seconds for additional tokens\n",
      "100%|██████████| 20/20 [20:02<00:00, 60.15s/it]\n"
     ]
    },
    {
     "name": "stdout",
     "output_type": "stream",
     "text": [
      "Batch 8 processed and merged.\n"
     ]
    },
    {
     "name": "stderr",
     "output_type": "stream",
     "text": [
      "Waiting 1185 seconds for additional tokens\n"
     ]
    },
    {
     "name": "stdout",
     "output_type": "stream",
     "text": [
      "Response from server: NOT_ENOUGH_TOKEN\n"
     ]
    },
    {
     "name": "stderr",
     "output_type": "stream",
     "text": [
      "Waiting 2 seconds for additional tokens\n",
      "100%|██████████| 20/20 [20:02<00:00, 60.12s/it]\n"
     ]
    },
    {
     "name": "stdout",
     "output_type": "stream",
     "text": [
      "Batch 9 processed and merged.\n"
     ]
    },
    {
     "name": "stderr",
     "output_type": "stream",
     "text": [
      "Waiting 1187 seconds for additional tokens\n"
     ]
    },
    {
     "name": "stdout",
     "output_type": "stream",
     "text": [
      "Response from server: NOT_ENOUGH_TOKEN\n"
     ]
    },
    {
     "name": "stderr",
     "output_type": "stream",
     "text": [
      "Waiting 2 seconds for additional tokens\n",
      "100%|██████████| 20/20 [20:05<00:00, 60.28s/it]\n"
     ]
    },
    {
     "name": "stdout",
     "output_type": "stream",
     "text": [
      "Batch 10 processed and merged.\n"
     ]
    },
    {
     "name": "stderr",
     "output_type": "stream",
     "text": [
      "Waiting 1185 seconds for additional tokens\n"
     ]
    },
    {
     "name": "stdout",
     "output_type": "stream",
     "text": [
      "Response from server: NOT_ENOUGH_TOKEN\n"
     ]
    },
    {
     "name": "stderr",
     "output_type": "stream",
     "text": [
      "Waiting 2 seconds for additional tokens\n",
      "100%|██████████| 20/20 [19:56<00:00, 59.83s/it]\n"
     ]
    },
    {
     "name": "stdout",
     "output_type": "stream",
     "text": [
      "Batch 11 processed and merged.\n"
     ]
    },
    {
     "name": "stderr",
     "output_type": "stream",
     "text": [
      "Waiting 1192 seconds for additional tokens\n"
     ]
    },
    {
     "name": "stdout",
     "output_type": "stream",
     "text": [
      "Response from server: NOT_ENOUGH_TOKEN\n"
     ]
    },
    {
     "name": "stderr",
     "output_type": "stream",
     "text": [
      "Waiting 2 seconds for additional tokens\n",
      "100%|██████████| 20/20 [20:15<00:00, 60.78s/it]\n"
     ]
    },
    {
     "name": "stdout",
     "output_type": "stream",
     "text": [
      "Batch 12 processed and merged.\n"
     ]
    },
    {
     "name": "stderr",
     "output_type": "stream",
     "text": [
      "Waiting 1180 seconds for additional tokens\n"
     ]
    },
    {
     "name": "stdout",
     "output_type": "stream",
     "text": [
      "Response from server: NOT_ENOUGH_TOKEN\n"
     ]
    },
    {
     "name": "stderr",
     "output_type": "stream",
     "text": [
      "Waiting 2 seconds for additional tokens\n",
      "100%|██████████| 20/20 [19:50<00:00, 59.50s/it]\n"
     ]
    },
    {
     "name": "stdout",
     "output_type": "stream",
     "text": [
      "Batch 13 processed and merged.\n"
     ]
    },
    {
     "name": "stderr",
     "output_type": "stream",
     "text": [
      "Waiting 1194 seconds for additional tokens\n"
     ]
    },
    {
     "name": "stdout",
     "output_type": "stream",
     "text": [
      "Response from server: NOT_ENOUGH_TOKEN\n"
     ]
    },
    {
     "name": "stderr",
     "output_type": "stream",
     "text": [
      "Waiting 2 seconds for additional tokens\n",
      "100%|██████████| 20/20 [20:14<00:00, 60.75s/it]\n"
     ]
    },
    {
     "name": "stdout",
     "output_type": "stream",
     "text": [
      "Batch 14 processed and merged.\n"
     ]
    },
    {
     "name": "stderr",
     "output_type": "stream",
     "text": [
      "Waiting 1184 seconds for additional tokens\n"
     ]
    },
    {
     "name": "stdout",
     "output_type": "stream",
     "text": [
      "Response from server: NOT_ENOUGH_TOKEN\n"
     ]
    },
    {
     "name": "stderr",
     "output_type": "stream",
     "text": [
      "Waiting 2 seconds for additional tokens\n",
      "100%|██████████| 20/20 [20:00<00:00, 60.00s/it]\n"
     ]
    },
    {
     "name": "stdout",
     "output_type": "stream",
     "text": [
      "Batch 15 processed and merged.\n"
     ]
    },
    {
     "name": "stderr",
     "output_type": "stream",
     "text": [
      "Waiting 1187 seconds for additional tokens\n"
     ]
    },
    {
     "name": "stdout",
     "output_type": "stream",
     "text": [
      "Response from server: NOT_ENOUGH_TOKEN\n"
     ]
    },
    {
     "name": "stderr",
     "output_type": "stream",
     "text": [
      "Waiting 2 seconds for additional tokens\n",
      "100%|██████████| 20/20 [20:05<00:00, 60.29s/it]\n"
     ]
    },
    {
     "name": "stdout",
     "output_type": "stream",
     "text": [
      "Batch 16 processed and merged.\n"
     ]
    },
    {
     "name": "stderr",
     "output_type": "stream",
     "text": [
      "Waiting 1185 seconds for additional tokens\n"
     ]
    },
    {
     "name": "stdout",
     "output_type": "stream",
     "text": [
      "Response from server: NOT_ENOUGH_TOKEN\n"
     ]
    },
    {
     "name": "stderr",
     "output_type": "stream",
     "text": [
      "Waiting 2 seconds for additional tokens\n",
      "100%|██████████| 20/20 [20:03<00:00, 60.19s/it]\n"
     ]
    },
    {
     "name": "stdout",
     "output_type": "stream",
     "text": [
      "Batch 17 processed and merged.\n"
     ]
    },
    {
     "name": "stderr",
     "output_type": "stream",
     "text": [
      "Waiting 1186 seconds for additional tokens\n"
     ]
    },
    {
     "name": "stdout",
     "output_type": "stream",
     "text": [
      "Response from server: NOT_ENOUGH_TOKEN\n"
     ]
    },
    {
     "name": "stderr",
     "output_type": "stream",
     "text": [
      "Waiting 2 seconds for additional tokens\n",
      "100%|██████████| 20/20 [20:10<00:00, 60.53s/it]\n"
     ]
    },
    {
     "name": "stdout",
     "output_type": "stream",
     "text": [
      "Batch 18 processed and merged.\n"
     ]
    },
    {
     "name": "stderr",
     "output_type": "stream",
     "text": [
      "Waiting 1179 seconds for additional tokens\n"
     ]
    },
    {
     "name": "stdout",
     "output_type": "stream",
     "text": [
      "Response from server: NOT_ENOUGH_TOKEN\n"
     ]
    },
    {
     "name": "stderr",
     "output_type": "stream",
     "text": [
      "Waiting 2 seconds for additional tokens\n",
      "100%|██████████| 20/20 [20:03<00:00, 60.16s/it]\n"
     ]
    },
    {
     "name": "stdout",
     "output_type": "stream",
     "text": [
      "Batch 19 processed and merged.\n"
     ]
    },
    {
     "name": "stderr",
     "output_type": "stream",
     "text": [
      "Waiting 1179 seconds for additional tokens\n"
     ]
    },
    {
     "name": "stdout",
     "output_type": "stream",
     "text": [
      "Response from server: NOT_ENOUGH_TOKEN\n"
     ]
    },
    {
     "name": "stderr",
     "output_type": "stream",
     "text": [
      "Waiting 2 seconds for additional tokens\n",
      "100%|██████████| 20/20 [19:49<00:00, 59.49s/it]\n"
     ]
    },
    {
     "name": "stdout",
     "output_type": "stream",
     "text": [
      "Batch 20 processed and merged.\n"
     ]
    },
    {
     "name": "stderr",
     "output_type": "stream",
     "text": [
      "Waiting 1193 seconds for additional tokens\n"
     ]
    },
    {
     "name": "stdout",
     "output_type": "stream",
     "text": [
      "Response from server: NOT_ENOUGH_TOKEN\n"
     ]
    },
    {
     "name": "stderr",
     "output_type": "stream",
     "text": [
      "Waiting 2 seconds for additional tokens\n",
      "100%|██████████| 20/20 [20:06<00:00, 60.33s/it]\n"
     ]
    },
    {
     "name": "stdout",
     "output_type": "stream",
     "text": [
      "Batch 21 processed and merged.\n"
     ]
    },
    {
     "name": "stderr",
     "output_type": "stream",
     "text": [
      "Waiting 1190 seconds for additional tokens\n"
     ]
    },
    {
     "name": "stdout",
     "output_type": "stream",
     "text": [
      "Response from server: NOT_ENOUGH_TOKEN\n"
     ]
    },
    {
     "name": "stderr",
     "output_type": "stream",
     "text": [
      "Waiting 3 seconds for additional tokens\n",
      "100%|██████████| 20/20 [20:04<00:00, 60.20s/it]\n"
     ]
    },
    {
     "name": "stdout",
     "output_type": "stream",
     "text": [
      "Batch 22 processed and merged.\n"
     ]
    },
    {
     "name": "stderr",
     "output_type": "stream",
     "text": [
      "Waiting 1191 seconds for additional tokens\n"
     ]
    },
    {
     "name": "stdout",
     "output_type": "stream",
     "text": [
      "Response from server: NOT_ENOUGH_TOKEN\n"
     ]
    },
    {
     "name": "stderr",
     "output_type": "stream",
     "text": [
      "Waiting 2 seconds for additional tokens\n",
      "100%|██████████| 20/20 [20:11<00:00, 60.59s/it]\n"
     ]
    },
    {
     "name": "stdout",
     "output_type": "stream",
     "text": [
      "Batch 23 processed and merged.\n"
     ]
    },
    {
     "name": "stderr",
     "output_type": "stream",
     "text": [
      "Waiting 1183 seconds for additional tokens\n"
     ]
    },
    {
     "name": "stdout",
     "output_type": "stream",
     "text": [
      "Response from server: NOT_ENOUGH_TOKEN\n"
     ]
    },
    {
     "name": "stderr",
     "output_type": "stream",
     "text": [
      "Waiting 2 seconds for additional tokens\n",
      "100%|██████████| 20/20 [19:58<00:00, 59.95s/it]\n"
     ]
    },
    {
     "name": "stdout",
     "output_type": "stream",
     "text": [
      "Batch 24 processed and merged.\n"
     ]
    },
    {
     "name": "stderr",
     "output_type": "stream",
     "text": [
      "Waiting 1187 seconds for additional tokens\n"
     ]
    },
    {
     "name": "stdout",
     "output_type": "stream",
     "text": [
      "Response from server: NOT_ENOUGH_TOKEN\n"
     ]
    },
    {
     "name": "stderr",
     "output_type": "stream",
     "text": [
      "Waiting 2 seconds for additional tokens\n",
      "100%|██████████| 20/20 [20:07<00:00, 60.36s/it]\n"
     ]
    },
    {
     "name": "stdout",
     "output_type": "stream",
     "text": [
      "Batch 25 processed and merged.\n"
     ]
    }
   ],
   "source": [
    "query_keepa_in_batches(products, category, max_batches=25, batch_size=20, days = (365 * 5) + 60, start_index = 0, stop_index = None)"
   ]
  },
  {
   "cell_type": "code",
   "execution_count": null,
   "metadata": {},
   "outputs": [],
   "source": [
    "# categories = ['appliances','electronics', 'grocery_and_foods', 'pet_supplies', 'toys', 'beauty_and_personal_care', 'clothing_shoes_and_jewelry','baby_products', 'home_and_kitchen'] health_and_household"
   ]
  },
  {
   "cell_type": "code",
   "execution_count": 157,
   "metadata": {},
   "outputs": [],
   "source": [
    "category = 'health_and_household'"
   ]
  },
  {
   "cell_type": "code",
   "execution_count": 158,
   "metadata": {},
   "outputs": [
    {
     "data": {
      "text/html": [
       "<div>\n",
       "<style scoped>\n",
       "    .dataframe tbody tr th:only-of-type {\n",
       "        vertical-align: middle;\n",
       "    }\n",
       "\n",
       "    .dataframe tbody tr th {\n",
       "        vertical-align: top;\n",
       "    }\n",
       "\n",
       "    .dataframe thead th {\n",
       "        text-align: right;\n",
       "    }\n",
       "</style>\n",
       "<table border=\"1\" class=\"dataframe\">\n",
       "  <thead>\n",
       "    <tr style=\"text-align: right;\">\n",
       "      <th></th>\n",
       "      <th>asin</th>\n",
       "      <th>2020-02</th>\n",
       "      <th>2020-03</th>\n",
       "      <th>2020-04</th>\n",
       "      <th>2020-05</th>\n",
       "      <th>2020-06</th>\n",
       "      <th>2020-07</th>\n",
       "      <th>2020-08</th>\n",
       "      <th>2020-09</th>\n",
       "      <th>2020-10</th>\n",
       "      <th>...</th>\n",
       "      <th>2024-06</th>\n",
       "      <th>2024-07</th>\n",
       "      <th>2024-08</th>\n",
       "      <th>2024-09</th>\n",
       "      <th>2024-10</th>\n",
       "      <th>2024-11</th>\n",
       "      <th>2024-12</th>\n",
       "      <th>2025-01</th>\n",
       "      <th>2025-02</th>\n",
       "      <th>2025-03</th>\n",
       "    </tr>\n",
       "  </thead>\n",
       "  <tbody>\n",
       "    <tr>\n",
       "      <th>0</th>\n",
       "      <td>B00004YK10</td>\n",
       "      <td>3.63</td>\n",
       "      <td>3.75</td>\n",
       "      <td>3.84</td>\n",
       "      <td>3.69</td>\n",
       "      <td>3.60</td>\n",
       "      <td>3.71</td>\n",
       "      <td>3.72</td>\n",
       "      <td>3.69</td>\n",
       "      <td>3.85</td>\n",
       "      <td>...</td>\n",
       "      <td>3.75</td>\n",
       "      <td>4.09</td>\n",
       "      <td>4.09</td>\n",
       "      <td>4.09</td>\n",
       "      <td>6.56</td>\n",
       "      <td>4.70</td>\n",
       "      <td>5.42</td>\n",
       "      <td>5.42</td>\n",
       "      <td>5.42</td>\n",
       "      <td>5.42</td>\n",
       "    </tr>\n",
       "    <tr>\n",
       "      <th>1</th>\n",
       "      <td>B00004YK1B</td>\n",
       "      <td>NaN</td>\n",
       "      <td>NaN</td>\n",
       "      <td>NaN</td>\n",
       "      <td>NaN</td>\n",
       "      <td>NaN</td>\n",
       "      <td>NaN</td>\n",
       "      <td>2.39</td>\n",
       "      <td>5.73</td>\n",
       "      <td>2.21</td>\n",
       "      <td>...</td>\n",
       "      <td>2.97</td>\n",
       "      <td>2.97</td>\n",
       "      <td>3.48</td>\n",
       "      <td>3.48</td>\n",
       "      <td>3.48</td>\n",
       "      <td>3.23</td>\n",
       "      <td>3.14</td>\n",
       "      <td>3.48</td>\n",
       "      <td>3.43</td>\n",
       "      <td>3.43</td>\n",
       "    </tr>\n",
       "    <tr>\n",
       "      <th>2</th>\n",
       "      <td>B000052YCZ</td>\n",
       "      <td>3.76</td>\n",
       "      <td>3.90</td>\n",
       "      <td>4.31</td>\n",
       "      <td>3.90</td>\n",
       "      <td>3.90</td>\n",
       "      <td>3.90</td>\n",
       "      <td>3.90</td>\n",
       "      <td>3.90</td>\n",
       "      <td>3.86</td>\n",
       "      <td>...</td>\n",
       "      <td>9.33</td>\n",
       "      <td>9.18</td>\n",
       "      <td>8.14</td>\n",
       "      <td>5.70</td>\n",
       "      <td>5.70</td>\n",
       "      <td>5.70</td>\n",
       "      <td>5.70</td>\n",
       "      <td>5.70</td>\n",
       "      <td>7.53</td>\n",
       "      <td>7.57</td>\n",
       "    </tr>\n",
       "    <tr>\n",
       "      <th>3</th>\n",
       "      <td>B00006IDL6</td>\n",
       "      <td>NaN</td>\n",
       "      <td>5.33</td>\n",
       "      <td>5.08</td>\n",
       "      <td>5.83</td>\n",
       "      <td>5.27</td>\n",
       "      <td>5.17</td>\n",
       "      <td>10.20</td>\n",
       "      <td>5.27</td>\n",
       "      <td>7.29</td>\n",
       "      <td>...</td>\n",
       "      <td>8.26</td>\n",
       "      <td>7.99</td>\n",
       "      <td>8.25</td>\n",
       "      <td>7.99</td>\n",
       "      <td>7.94</td>\n",
       "      <td>7.59</td>\n",
       "      <td>6.76</td>\n",
       "      <td>6.98</td>\n",
       "      <td>6.98</td>\n",
       "      <td>6.98</td>\n",
       "    </tr>\n",
       "    <tr>\n",
       "      <th>4</th>\n",
       "      <td>B00006J3G2</td>\n",
       "      <td>15.17</td>\n",
       "      <td>20.64</td>\n",
       "      <td>23.59</td>\n",
       "      <td>23.15</td>\n",
       "      <td>19.90</td>\n",
       "      <td>16.34</td>\n",
       "      <td>15.35</td>\n",
       "      <td>14.66</td>\n",
       "      <td>16.37</td>\n",
       "      <td>...</td>\n",
       "      <td>19.45</td>\n",
       "      <td>15.08</td>\n",
       "      <td>17.14</td>\n",
       "      <td>16.81</td>\n",
       "      <td>14.94</td>\n",
       "      <td>16.56</td>\n",
       "      <td>15.93</td>\n",
       "      <td>18.52</td>\n",
       "      <td>18.64</td>\n",
       "      <td>18.47</td>\n",
       "    </tr>\n",
       "    <tr>\n",
       "      <th>...</th>\n",
       "      <td>...</td>\n",
       "      <td>...</td>\n",
       "      <td>...</td>\n",
       "      <td>...</td>\n",
       "      <td>...</td>\n",
       "      <td>...</td>\n",
       "      <td>...</td>\n",
       "      <td>...</td>\n",
       "      <td>...</td>\n",
       "      <td>...</td>\n",
       "      <td>...</td>\n",
       "      <td>...</td>\n",
       "      <td>...</td>\n",
       "      <td>...</td>\n",
       "      <td>...</td>\n",
       "      <td>...</td>\n",
       "      <td>...</td>\n",
       "      <td>...</td>\n",
       "      <td>...</td>\n",
       "      <td>...</td>\n",
       "      <td>...</td>\n",
       "    </tr>\n",
       "    <tr>\n",
       "      <th>495</th>\n",
       "      <td>B08MVNVJYW</td>\n",
       "      <td>NaN</td>\n",
       "      <td>NaN</td>\n",
       "      <td>NaN</td>\n",
       "      <td>NaN</td>\n",
       "      <td>NaN</td>\n",
       "      <td>NaN</td>\n",
       "      <td>NaN</td>\n",
       "      <td>NaN</td>\n",
       "      <td>NaN</td>\n",
       "      <td>...</td>\n",
       "      <td>24.34</td>\n",
       "      <td>23.45</td>\n",
       "      <td>23.64</td>\n",
       "      <td>23.09</td>\n",
       "      <td>23.71</td>\n",
       "      <td>22.82</td>\n",
       "      <td>23.21</td>\n",
       "      <td>23.46</td>\n",
       "      <td>19.21</td>\n",
       "      <td>19.21</td>\n",
       "    </tr>\n",
       "    <tr>\n",
       "      <th>496</th>\n",
       "      <td>B08MVQJFPY</td>\n",
       "      <td>NaN</td>\n",
       "      <td>NaN</td>\n",
       "      <td>NaN</td>\n",
       "      <td>NaN</td>\n",
       "      <td>NaN</td>\n",
       "      <td>NaN</td>\n",
       "      <td>NaN</td>\n",
       "      <td>NaN</td>\n",
       "      <td>NaN</td>\n",
       "      <td>...</td>\n",
       "      <td>19.75</td>\n",
       "      <td>20.10</td>\n",
       "      <td>20.57</td>\n",
       "      <td>19.36</td>\n",
       "      <td>19.13</td>\n",
       "      <td>19.82</td>\n",
       "      <td>19.64</td>\n",
       "      <td>23.85</td>\n",
       "      <td>19.82</td>\n",
       "      <td>18.47</td>\n",
       "    </tr>\n",
       "    <tr>\n",
       "      <th>497</th>\n",
       "      <td>B08PDRQ9DN</td>\n",
       "      <td>NaN</td>\n",
       "      <td>NaN</td>\n",
       "      <td>NaN</td>\n",
       "      <td>NaN</td>\n",
       "      <td>NaN</td>\n",
       "      <td>NaN</td>\n",
       "      <td>NaN</td>\n",
       "      <td>NaN</td>\n",
       "      <td>NaN</td>\n",
       "      <td>...</td>\n",
       "      <td>25.46</td>\n",
       "      <td>25.46</td>\n",
       "      <td>25.46</td>\n",
       "      <td>29.96</td>\n",
       "      <td>29.96</td>\n",
       "      <td>29.96</td>\n",
       "      <td>29.96</td>\n",
       "      <td>28.97</td>\n",
       "      <td>31.04</td>\n",
       "      <td>31.58</td>\n",
       "    </tr>\n",
       "    <tr>\n",
       "      <th>498</th>\n",
       "      <td>B08PQ4ZFNH</td>\n",
       "      <td>NaN</td>\n",
       "      <td>NaN</td>\n",
       "      <td>NaN</td>\n",
       "      <td>NaN</td>\n",
       "      <td>NaN</td>\n",
       "      <td>NaN</td>\n",
       "      <td>NaN</td>\n",
       "      <td>NaN</td>\n",
       "      <td>NaN</td>\n",
       "      <td>...</td>\n",
       "      <td>37.49</td>\n",
       "      <td>34.99</td>\n",
       "      <td>33.88</td>\n",
       "      <td>34.37</td>\n",
       "      <td>32.90</td>\n",
       "      <td>31.87</td>\n",
       "      <td>32.14</td>\n",
       "      <td>32.59</td>\n",
       "      <td>31.21</td>\n",
       "      <td>39.41</td>\n",
       "    </tr>\n",
       "    <tr>\n",
       "      <th>499</th>\n",
       "      <td>B08QV7Q6QX</td>\n",
       "      <td>NaN</td>\n",
       "      <td>NaN</td>\n",
       "      <td>NaN</td>\n",
       "      <td>NaN</td>\n",
       "      <td>NaN</td>\n",
       "      <td>NaN</td>\n",
       "      <td>NaN</td>\n",
       "      <td>NaN</td>\n",
       "      <td>NaN</td>\n",
       "      <td>...</td>\n",
       "      <td>43.59</td>\n",
       "      <td>41.68</td>\n",
       "      <td>41.68</td>\n",
       "      <td>41.68</td>\n",
       "      <td>41.68</td>\n",
       "      <td>41.68</td>\n",
       "      <td>41.68</td>\n",
       "      <td>42.99</td>\n",
       "      <td>42.99</td>\n",
       "      <td>44.99</td>\n",
       "    </tr>\n",
       "  </tbody>\n",
       "</table>\n",
       "<p>500 rows × 63 columns</p>\n",
       "</div>"
      ],
      "text/plain": [
       "           asin  2020-02  2020-03  2020-04  2020-05  2020-06  2020-07  \\\n",
       "0    B00004YK10     3.63     3.75     3.84     3.69     3.60     3.71   \n",
       "1    B00004YK1B      NaN      NaN      NaN      NaN      NaN      NaN   \n",
       "2    B000052YCZ     3.76     3.90     4.31     3.90     3.90     3.90   \n",
       "3    B00006IDL6      NaN     5.33     5.08     5.83     5.27     5.17   \n",
       "4    B00006J3G2    15.17    20.64    23.59    23.15    19.90    16.34   \n",
       "..          ...      ...      ...      ...      ...      ...      ...   \n",
       "495  B08MVNVJYW      NaN      NaN      NaN      NaN      NaN      NaN   \n",
       "496  B08MVQJFPY      NaN      NaN      NaN      NaN      NaN      NaN   \n",
       "497  B08PDRQ9DN      NaN      NaN      NaN      NaN      NaN      NaN   \n",
       "498  B08PQ4ZFNH      NaN      NaN      NaN      NaN      NaN      NaN   \n",
       "499  B08QV7Q6QX      NaN      NaN      NaN      NaN      NaN      NaN   \n",
       "\n",
       "     2020-08  2020-09  2020-10  ...  2024-06  2024-07  2024-08  2024-09  \\\n",
       "0       3.72     3.69     3.85  ...     3.75     4.09     4.09     4.09   \n",
       "1       2.39     5.73     2.21  ...     2.97     2.97     3.48     3.48   \n",
       "2       3.90     3.90     3.86  ...     9.33     9.18     8.14     5.70   \n",
       "3      10.20     5.27     7.29  ...     8.26     7.99     8.25     7.99   \n",
       "4      15.35    14.66    16.37  ...    19.45    15.08    17.14    16.81   \n",
       "..       ...      ...      ...  ...      ...      ...      ...      ...   \n",
       "495      NaN      NaN      NaN  ...    24.34    23.45    23.64    23.09   \n",
       "496      NaN      NaN      NaN  ...    19.75    20.10    20.57    19.36   \n",
       "497      NaN      NaN      NaN  ...    25.46    25.46    25.46    29.96   \n",
       "498      NaN      NaN      NaN  ...    37.49    34.99    33.88    34.37   \n",
       "499      NaN      NaN      NaN  ...    43.59    41.68    41.68    41.68   \n",
       "\n",
       "     2024-10  2024-11  2024-12  2025-01  2025-02  2025-03  \n",
       "0       6.56     4.70     5.42     5.42     5.42     5.42  \n",
       "1       3.48     3.23     3.14     3.48     3.43     3.43  \n",
       "2       5.70     5.70     5.70     5.70     7.53     7.57  \n",
       "3       7.94     7.59     6.76     6.98     6.98     6.98  \n",
       "4      14.94    16.56    15.93    18.52    18.64    18.47  \n",
       "..       ...      ...      ...      ...      ...      ...  \n",
       "495    23.71    22.82    23.21    23.46    19.21    19.21  \n",
       "496    19.13    19.82    19.64    23.85    19.82    18.47  \n",
       "497    29.96    29.96    29.96    28.97    31.04    31.58  \n",
       "498    32.90    31.87    32.14    32.59    31.21    39.41  \n",
       "499    41.68    41.68    41.68    42.99    42.99    44.99  \n",
       "\n",
       "[500 rows x 63 columns]"
      ]
     },
     "execution_count": 158,
     "metadata": {},
     "output_type": "execute_result"
    }
   ],
   "source": [
    "data_path2 = Path('data/asin_prices') / f'{category}_monthly_prices.csv'\n",
    "price_data = pd.read_csv(data_path2)\n",
    "price_data = clean_prices(price_data)\n",
    "price_data"
   ]
  },
  {
   "cell_type": "code",
   "execution_count": 159,
   "metadata": {},
   "outputs": [],
   "source": [
    "cols_to_drop = list(price_data.columns[1:12]) + list(price_data.columns[-3:])\n",
    "price_data = price_data.drop(columns=cols_to_drop)"
   ]
  },
  {
   "cell_type": "code",
   "execution_count": 160,
   "metadata": {},
   "outputs": [
    {
     "data": {
      "text/html": [
       "<div>\n",
       "<style scoped>\n",
       "    .dataframe tbody tr th:only-of-type {\n",
       "        vertical-align: middle;\n",
       "    }\n",
       "\n",
       "    .dataframe tbody tr th {\n",
       "        vertical-align: top;\n",
       "    }\n",
       "\n",
       "    .dataframe thead th {\n",
       "        text-align: right;\n",
       "    }\n",
       "</style>\n",
       "<table border=\"1\" class=\"dataframe\">\n",
       "  <thead>\n",
       "    <tr style=\"text-align: right;\">\n",
       "      <th></th>\n",
       "      <th>asin</th>\n",
       "      <th>2021-01</th>\n",
       "      <th>2021-02</th>\n",
       "      <th>2021-03</th>\n",
       "      <th>2021-04</th>\n",
       "      <th>2021-05</th>\n",
       "      <th>2021-06</th>\n",
       "      <th>2021-07</th>\n",
       "      <th>2021-08</th>\n",
       "      <th>2021-09</th>\n",
       "      <th>...</th>\n",
       "      <th>2024-03</th>\n",
       "      <th>2024-04</th>\n",
       "      <th>2024-05</th>\n",
       "      <th>2024-06</th>\n",
       "      <th>2024-07</th>\n",
       "      <th>2024-08</th>\n",
       "      <th>2024-09</th>\n",
       "      <th>2024-10</th>\n",
       "      <th>2024-11</th>\n",
       "      <th>2024-12</th>\n",
       "    </tr>\n",
       "  </thead>\n",
       "  <tbody>\n",
       "    <tr>\n",
       "      <th>0</th>\n",
       "      <td>B00004YK10</td>\n",
       "      <td>3.90</td>\n",
       "      <td>3.39</td>\n",
       "      <td>3.47</td>\n",
       "      <td>3.74</td>\n",
       "      <td>3.68</td>\n",
       "      <td>3.77</td>\n",
       "      <td>3.78</td>\n",
       "      <td>3.78</td>\n",
       "      <td>3.67</td>\n",
       "      <td>...</td>\n",
       "      <td>3.29</td>\n",
       "      <td>3.29</td>\n",
       "      <td>3.29</td>\n",
       "      <td>3.75</td>\n",
       "      <td>4.09</td>\n",
       "      <td>4.09</td>\n",
       "      <td>4.09</td>\n",
       "      <td>6.56</td>\n",
       "      <td>4.70</td>\n",
       "      <td>5.42</td>\n",
       "    </tr>\n",
       "    <tr>\n",
       "      <th>1</th>\n",
       "      <td>B00004YK1B</td>\n",
       "      <td>3.99</td>\n",
       "      <td>3.24</td>\n",
       "      <td>4.91</td>\n",
       "      <td>6.07</td>\n",
       "      <td>5.93</td>\n",
       "      <td>3.99</td>\n",
       "      <td>1.74</td>\n",
       "      <td>2.93</td>\n",
       "      <td>2.86</td>\n",
       "      <td>...</td>\n",
       "      <td>2.86</td>\n",
       "      <td>2.97</td>\n",
       "      <td>2.97</td>\n",
       "      <td>2.97</td>\n",
       "      <td>2.97</td>\n",
       "      <td>3.48</td>\n",
       "      <td>3.48</td>\n",
       "      <td>3.48</td>\n",
       "      <td>3.23</td>\n",
       "      <td>3.14</td>\n",
       "    </tr>\n",
       "    <tr>\n",
       "      <th>2</th>\n",
       "      <td>B000052YCZ</td>\n",
       "      <td>9.55</td>\n",
       "      <td>3.88</td>\n",
       "      <td>3.81</td>\n",
       "      <td>3.86</td>\n",
       "      <td>3.88</td>\n",
       "      <td>3.98</td>\n",
       "      <td>3.89</td>\n",
       "      <td>4.09</td>\n",
       "      <td>4.77</td>\n",
       "      <td>...</td>\n",
       "      <td>6.08</td>\n",
       "      <td>6.49</td>\n",
       "      <td>6.49</td>\n",
       "      <td>9.33</td>\n",
       "      <td>9.18</td>\n",
       "      <td>8.14</td>\n",
       "      <td>5.70</td>\n",
       "      <td>5.70</td>\n",
       "      <td>5.70</td>\n",
       "      <td>5.70</td>\n",
       "    </tr>\n",
       "    <tr>\n",
       "      <th>3</th>\n",
       "      <td>B00006IDL6</td>\n",
       "      <td>6.14</td>\n",
       "      <td>6.14</td>\n",
       "      <td>5.48</td>\n",
       "      <td>5.48</td>\n",
       "      <td>6.87</td>\n",
       "      <td>6.87</td>\n",
       "      <td>6.87</td>\n",
       "      <td>5.44</td>\n",
       "      <td>5.24</td>\n",
       "      <td>...</td>\n",
       "      <td>7.76</td>\n",
       "      <td>8.26</td>\n",
       "      <td>8.10</td>\n",
       "      <td>8.26</td>\n",
       "      <td>7.99</td>\n",
       "      <td>8.25</td>\n",
       "      <td>7.99</td>\n",
       "      <td>7.94</td>\n",
       "      <td>7.59</td>\n",
       "      <td>6.76</td>\n",
       "    </tr>\n",
       "    <tr>\n",
       "      <th>4</th>\n",
       "      <td>B00006J3G2</td>\n",
       "      <td>19.04</td>\n",
       "      <td>18.75</td>\n",
       "      <td>20.46</td>\n",
       "      <td>16.13</td>\n",
       "      <td>16.18</td>\n",
       "      <td>16.00</td>\n",
       "      <td>15.45</td>\n",
       "      <td>15.23</td>\n",
       "      <td>15.48</td>\n",
       "      <td>...</td>\n",
       "      <td>16.60</td>\n",
       "      <td>17.81</td>\n",
       "      <td>23.79</td>\n",
       "      <td>19.45</td>\n",
       "      <td>15.08</td>\n",
       "      <td>17.14</td>\n",
       "      <td>16.81</td>\n",
       "      <td>14.94</td>\n",
       "      <td>16.56</td>\n",
       "      <td>15.93</td>\n",
       "    </tr>\n",
       "    <tr>\n",
       "      <th>...</th>\n",
       "      <td>...</td>\n",
       "      <td>...</td>\n",
       "      <td>...</td>\n",
       "      <td>...</td>\n",
       "      <td>...</td>\n",
       "      <td>...</td>\n",
       "      <td>...</td>\n",
       "      <td>...</td>\n",
       "      <td>...</td>\n",
       "      <td>...</td>\n",
       "      <td>...</td>\n",
       "      <td>...</td>\n",
       "      <td>...</td>\n",
       "      <td>...</td>\n",
       "      <td>...</td>\n",
       "      <td>...</td>\n",
       "      <td>...</td>\n",
       "      <td>...</td>\n",
       "      <td>...</td>\n",
       "      <td>...</td>\n",
       "      <td>...</td>\n",
       "    </tr>\n",
       "    <tr>\n",
       "      <th>495</th>\n",
       "      <td>B08MVNVJYW</td>\n",
       "      <td>NaN</td>\n",
       "      <td>NaN</td>\n",
       "      <td>NaN</td>\n",
       "      <td>12.29</td>\n",
       "      <td>12.29</td>\n",
       "      <td>34.92</td>\n",
       "      <td>34.92</td>\n",
       "      <td>34.92</td>\n",
       "      <td>34.92</td>\n",
       "      <td>...</td>\n",
       "      <td>24.54</td>\n",
       "      <td>24.74</td>\n",
       "      <td>24.91</td>\n",
       "      <td>24.34</td>\n",
       "      <td>23.45</td>\n",
       "      <td>23.64</td>\n",
       "      <td>23.09</td>\n",
       "      <td>23.71</td>\n",
       "      <td>22.82</td>\n",
       "      <td>23.21</td>\n",
       "    </tr>\n",
       "    <tr>\n",
       "      <th>496</th>\n",
       "      <td>B08MVQJFPY</td>\n",
       "      <td>NaN</td>\n",
       "      <td>29.02</td>\n",
       "      <td>16.62</td>\n",
       "      <td>39.39</td>\n",
       "      <td>32.59</td>\n",
       "      <td>27.74</td>\n",
       "      <td>16.15</td>\n",
       "      <td>15.58</td>\n",
       "      <td>24.38</td>\n",
       "      <td>...</td>\n",
       "      <td>18.49</td>\n",
       "      <td>19.55</td>\n",
       "      <td>19.88</td>\n",
       "      <td>19.75</td>\n",
       "      <td>20.10</td>\n",
       "      <td>20.57</td>\n",
       "      <td>19.36</td>\n",
       "      <td>19.13</td>\n",
       "      <td>19.82</td>\n",
       "      <td>19.64</td>\n",
       "    </tr>\n",
       "    <tr>\n",
       "      <th>497</th>\n",
       "      <td>B08PDRQ9DN</td>\n",
       "      <td>36.34</td>\n",
       "      <td>35.25</td>\n",
       "      <td>33.12</td>\n",
       "      <td>31.15</td>\n",
       "      <td>31.70</td>\n",
       "      <td>30.69</td>\n",
       "      <td>31.14</td>\n",
       "      <td>35.91</td>\n",
       "      <td>35.91</td>\n",
       "      <td>...</td>\n",
       "      <td>25.46</td>\n",
       "      <td>25.46</td>\n",
       "      <td>25.46</td>\n",
       "      <td>25.46</td>\n",
       "      <td>25.46</td>\n",
       "      <td>25.46</td>\n",
       "      <td>29.96</td>\n",
       "      <td>29.96</td>\n",
       "      <td>29.96</td>\n",
       "      <td>29.96</td>\n",
       "    </tr>\n",
       "    <tr>\n",
       "      <th>498</th>\n",
       "      <td>B08PQ4ZFNH</td>\n",
       "      <td>39.99</td>\n",
       "      <td>39.99</td>\n",
       "      <td>39.99</td>\n",
       "      <td>39.99</td>\n",
       "      <td>39.99</td>\n",
       "      <td>39.99</td>\n",
       "      <td>39.99</td>\n",
       "      <td>39.99</td>\n",
       "      <td>39.99</td>\n",
       "      <td>...</td>\n",
       "      <td>38.96</td>\n",
       "      <td>38.97</td>\n",
       "      <td>37.49</td>\n",
       "      <td>37.49</td>\n",
       "      <td>34.99</td>\n",
       "      <td>33.88</td>\n",
       "      <td>34.37</td>\n",
       "      <td>32.90</td>\n",
       "      <td>31.87</td>\n",
       "      <td>32.14</td>\n",
       "    </tr>\n",
       "    <tr>\n",
       "      <th>499</th>\n",
       "      <td>B08QV7Q6QX</td>\n",
       "      <td>39.99</td>\n",
       "      <td>39.99</td>\n",
       "      <td>39.99</td>\n",
       "      <td>39.99</td>\n",
       "      <td>39.99</td>\n",
       "      <td>39.99</td>\n",
       "      <td>39.99</td>\n",
       "      <td>39.99</td>\n",
       "      <td>39.99</td>\n",
       "      <td>...</td>\n",
       "      <td>43.50</td>\n",
       "      <td>41.98</td>\n",
       "      <td>42.71</td>\n",
       "      <td>43.59</td>\n",
       "      <td>41.68</td>\n",
       "      <td>41.68</td>\n",
       "      <td>41.68</td>\n",
       "      <td>41.68</td>\n",
       "      <td>41.68</td>\n",
       "      <td>41.68</td>\n",
       "    </tr>\n",
       "  </tbody>\n",
       "</table>\n",
       "<p>500 rows × 49 columns</p>\n",
       "</div>"
      ],
      "text/plain": [
       "           asin  2021-01  2021-02  2021-03  2021-04  2021-05  2021-06  \\\n",
       "0    B00004YK10     3.90     3.39     3.47     3.74     3.68     3.77   \n",
       "1    B00004YK1B     3.99     3.24     4.91     6.07     5.93     3.99   \n",
       "2    B000052YCZ     9.55     3.88     3.81     3.86     3.88     3.98   \n",
       "3    B00006IDL6     6.14     6.14     5.48     5.48     6.87     6.87   \n",
       "4    B00006J3G2    19.04    18.75    20.46    16.13    16.18    16.00   \n",
       "..          ...      ...      ...      ...      ...      ...      ...   \n",
       "495  B08MVNVJYW      NaN      NaN      NaN    12.29    12.29    34.92   \n",
       "496  B08MVQJFPY      NaN    29.02    16.62    39.39    32.59    27.74   \n",
       "497  B08PDRQ9DN    36.34    35.25    33.12    31.15    31.70    30.69   \n",
       "498  B08PQ4ZFNH    39.99    39.99    39.99    39.99    39.99    39.99   \n",
       "499  B08QV7Q6QX    39.99    39.99    39.99    39.99    39.99    39.99   \n",
       "\n",
       "     2021-07  2021-08  2021-09  ...  2024-03  2024-04  2024-05  2024-06  \\\n",
       "0       3.78     3.78     3.67  ...     3.29     3.29     3.29     3.75   \n",
       "1       1.74     2.93     2.86  ...     2.86     2.97     2.97     2.97   \n",
       "2       3.89     4.09     4.77  ...     6.08     6.49     6.49     9.33   \n",
       "3       6.87     5.44     5.24  ...     7.76     8.26     8.10     8.26   \n",
       "4      15.45    15.23    15.48  ...    16.60    17.81    23.79    19.45   \n",
       "..       ...      ...      ...  ...      ...      ...      ...      ...   \n",
       "495    34.92    34.92    34.92  ...    24.54    24.74    24.91    24.34   \n",
       "496    16.15    15.58    24.38  ...    18.49    19.55    19.88    19.75   \n",
       "497    31.14    35.91    35.91  ...    25.46    25.46    25.46    25.46   \n",
       "498    39.99    39.99    39.99  ...    38.96    38.97    37.49    37.49   \n",
       "499    39.99    39.99    39.99  ...    43.50    41.98    42.71    43.59   \n",
       "\n",
       "     2024-07  2024-08  2024-09  2024-10  2024-11  2024-12  \n",
       "0       4.09     4.09     4.09     6.56     4.70     5.42  \n",
       "1       2.97     3.48     3.48     3.48     3.23     3.14  \n",
       "2       9.18     8.14     5.70     5.70     5.70     5.70  \n",
       "3       7.99     8.25     7.99     7.94     7.59     6.76  \n",
       "4      15.08    17.14    16.81    14.94    16.56    15.93  \n",
       "..       ...      ...      ...      ...      ...      ...  \n",
       "495    23.45    23.64    23.09    23.71    22.82    23.21  \n",
       "496    20.10    20.57    19.36    19.13    19.82    19.64  \n",
       "497    25.46    25.46    29.96    29.96    29.96    29.96  \n",
       "498    34.99    33.88    34.37    32.90    31.87    32.14  \n",
       "499    41.68    41.68    41.68    41.68    41.68    41.68  \n",
       "\n",
       "[500 rows x 49 columns]"
      ]
     },
     "execution_count": 160,
     "metadata": {},
     "output_type": "execute_result"
    }
   ],
   "source": [
    "price_data"
   ]
  },
  {
   "cell_type": "code",
   "execution_count": 161,
   "metadata": {},
   "outputs": [],
   "source": [
    "data_path = Path('data/keepa_data') / f'{category}.csv'\n",
    "products = pd.read_csv(data_path)\n",
    "products = clean_frame(products)"
   ]
  },
  {
   "cell_type": "code",
   "execution_count": 162,
   "metadata": {},
   "outputs": [
    {
     "data": {
      "text/html": [
       "<div>\n",
       "<style scoped>\n",
       "    .dataframe tbody tr th:only-of-type {\n",
       "        vertical-align: middle;\n",
       "    }\n",
       "\n",
       "    .dataframe tbody tr th {\n",
       "        vertical-align: top;\n",
       "    }\n",
       "\n",
       "    .dataframe thead th {\n",
       "        text-align: right;\n",
       "    }\n",
       "</style>\n",
       "<table border=\"1\" class=\"dataframe\">\n",
       "  <thead>\n",
       "    <tr style=\"text-align: right;\">\n",
       "      <th></th>\n",
       "      <th>product_title</th>\n",
       "      <th>subcategory</th>\n",
       "      <th>asin</th>\n",
       "    </tr>\n",
       "  </thead>\n",
       "  <tbody>\n",
       "    <tr>\n",
       "      <th>0</th>\n",
       "      <td>Bounty Quick-Size Paper Towels, White, 12 Fami...</td>\n",
       "      <td>paper towels</td>\n",
       "      <td>B079VP6DH6</td>\n",
       "    </tr>\n",
       "    <tr>\n",
       "      <th>1</th>\n",
       "      <td>Amazon Basics 100-Pack AA Alkaline High-Perfor...</td>\n",
       "      <td>aa</td>\n",
       "      <td>B01B8R6PF2</td>\n",
       "    </tr>\n",
       "    <tr>\n",
       "      <th>2</th>\n",
       "      <td>LMNT Zero Sugar Electrolytes - Citrus Salt | D...</td>\n",
       "      <td>electrolyte replacements</td>\n",
       "      <td>B07TT8B1JJ</td>\n",
       "    </tr>\n",
       "    <tr>\n",
       "      <th>3</th>\n",
       "      <td>Scott ComfortPlus Toilet Paper, 12 Double Roll...</td>\n",
       "      <td>toilet paper</td>\n",
       "      <td>B07BGLT25K</td>\n",
       "    </tr>\n",
       "    <tr>\n",
       "      <th>4</th>\n",
       "      <td>Charmin Ultra Soft Cushiony Touch Toilet Paper...</td>\n",
       "      <td>toilet paper</td>\n",
       "      <td>B0798DVT68</td>\n",
       "    </tr>\n",
       "    <tr>\n",
       "      <th>...</th>\n",
       "      <td>...</td>\n",
       "      <td>...</td>\n",
       "      <td>...</td>\n",
       "    </tr>\n",
       "    <tr>\n",
       "      <th>995</th>\n",
       "      <td>Hyland's Restful Legs PM, Nighttime Formula, C...</td>\n",
       "      <td>single homeopathic remedies</td>\n",
       "      <td>B07F4CPP7C</td>\n",
       "    </tr>\n",
       "    <tr>\n",
       "      <th>996</th>\n",
       "      <td>Cicatricure Face &amp; Body Advanced Scar Gel, Sca...</td>\n",
       "      <td>scars &amp; wounds</td>\n",
       "      <td>B0043WAD9O</td>\n",
       "    </tr>\n",
       "    <tr>\n",
       "      <th>997</th>\n",
       "      <td>NOW Foods Supplements, Quercetin with Bromelai...</td>\n",
       "      <td>bromelain</td>\n",
       "      <td>B002JNK8EY</td>\n",
       "    </tr>\n",
       "    <tr>\n",
       "      <th>998</th>\n",
       "      <td>Nutricost Ashwagandha Herbal Supplement 600mg,...</td>\n",
       "      <td>herbals</td>\n",
       "      <td>B073DN2YG9</td>\n",
       "    </tr>\n",
       "    <tr>\n",
       "      <th>999</th>\n",
       "      <td>Reynolds Kitchens Quick Cut Plastic Wrap, 225 ...</td>\n",
       "      <td>plastic wrap</td>\n",
       "      <td>B07WD9PF7T</td>\n",
       "    </tr>\n",
       "  </tbody>\n",
       "</table>\n",
       "<p>1000 rows × 3 columns</p>\n",
       "</div>"
      ],
      "text/plain": [
       "                                         product_title  \\\n",
       "0    Bounty Quick-Size Paper Towels, White, 12 Fami...   \n",
       "1    Amazon Basics 100-Pack AA Alkaline High-Perfor...   \n",
       "2    LMNT Zero Sugar Electrolytes - Citrus Salt | D...   \n",
       "3    Scott ComfortPlus Toilet Paper, 12 Double Roll...   \n",
       "4    Charmin Ultra Soft Cushiony Touch Toilet Paper...   \n",
       "..                                                 ...   \n",
       "995  Hyland's Restful Legs PM, Nighttime Formula, C...   \n",
       "996  Cicatricure Face & Body Advanced Scar Gel, Sca...   \n",
       "997  NOW Foods Supplements, Quercetin with Bromelai...   \n",
       "998  Nutricost Ashwagandha Herbal Supplement 600mg,...   \n",
       "999  Reynolds Kitchens Quick Cut Plastic Wrap, 225 ...   \n",
       "\n",
       "                     subcategory        asin  \n",
       "0                   paper towels  B079VP6DH6  \n",
       "1                             aa  B01B8R6PF2  \n",
       "2       electrolyte replacements  B07TT8B1JJ  \n",
       "3                   toilet paper  B07BGLT25K  \n",
       "4                   toilet paper  B0798DVT68  \n",
       "..                           ...         ...  \n",
       "995  single homeopathic remedies  B07F4CPP7C  \n",
       "996               scars & wounds  B0043WAD9O  \n",
       "997                    bromelain  B002JNK8EY  \n",
       "998                      herbals  B073DN2YG9  \n",
       "999                 plastic wrap  B07WD9PF7T  \n",
       "\n",
       "[1000 rows x 3 columns]"
      ]
     },
     "execution_count": 162,
     "metadata": {},
     "output_type": "execute_result"
    }
   ],
   "source": [
    "products"
   ]
  },
  {
   "cell_type": "code",
   "execution_count": 163,
   "metadata": {},
   "outputs": [],
   "source": [
    "merged_data = pd.merge(products, price_data, on='asin', how='left')"
   ]
  },
  {
   "cell_type": "code",
   "execution_count": 164,
   "metadata": {},
   "outputs": [],
   "source": [
    "merged_data = merged_data.dropna(subset=merged_data.columns[4:], how='all').reset_index(drop=True)"
   ]
  },
  {
   "cell_type": "code",
   "execution_count": 165,
<<<<<<< Updated upstream
=======
   "metadata": {},
   "outputs": [
    {
     "data": {
      "text/html": [
       "<div>\n",
       "<style scoped>\n",
       "    .dataframe tbody tr th:only-of-type {\n",
       "        vertical-align: middle;\n",
       "    }\n",
       "\n",
       "    .dataframe tbody tr th {\n",
       "        vertical-align: top;\n",
       "    }\n",
       "\n",
       "    .dataframe thead th {\n",
       "        text-align: right;\n",
       "    }\n",
       "</style>\n",
       "<table border=\"1\" class=\"dataframe\">\n",
       "  <thead>\n",
       "    <tr style=\"text-align: right;\">\n",
       "      <th></th>\n",
       "      <th>product_title</th>\n",
       "      <th>subcategory</th>\n",
       "      <th>asin</th>\n",
       "      <th>2021-01</th>\n",
       "      <th>2021-02</th>\n",
       "      <th>2021-03</th>\n",
       "      <th>2021-04</th>\n",
       "      <th>2021-05</th>\n",
       "      <th>2021-06</th>\n",
       "      <th>2021-07</th>\n",
       "      <th>...</th>\n",
       "      <th>2024-03</th>\n",
       "      <th>2024-04</th>\n",
       "      <th>2024-05</th>\n",
       "      <th>2024-06</th>\n",
       "      <th>2024-07</th>\n",
       "      <th>2024-08</th>\n",
       "      <th>2024-09</th>\n",
       "      <th>2024-10</th>\n",
       "      <th>2024-11</th>\n",
       "      <th>2024-12</th>\n",
       "    </tr>\n",
       "  </thead>\n",
       "  <tbody>\n",
       "    <tr>\n",
       "      <th>0</th>\n",
       "      <td>Bounty Quick-Size Paper Towels, White, 12 Fami...</td>\n",
       "      <td>paper towels</td>\n",
       "      <td>B079VP6DH6</td>\n",
       "      <td>59.61</td>\n",
       "      <td>39.86</td>\n",
       "      <td>30.44</td>\n",
       "      <td>24.89</td>\n",
       "      <td>22.63</td>\n",
       "      <td>21.16</td>\n",
       "      <td>19.74</td>\n",
       "      <td>...</td>\n",
       "      <td>35.47</td>\n",
       "      <td>35.47</td>\n",
       "      <td>34.12</td>\n",
       "      <td>34.12</td>\n",
       "      <td>35.46</td>\n",
       "      <td>33.29</td>\n",
       "      <td>33.29</td>\n",
       "      <td>33.29</td>\n",
       "      <td>35.62</td>\n",
       "      <td>36.61</td>\n",
       "    </tr>\n",
       "    <tr>\n",
       "      <th>1</th>\n",
       "      <td>Amazon Basics 100-Pack AA Alkaline High-Perfor...</td>\n",
       "      <td>aa</td>\n",
       "      <td>B01B8R6PF2</td>\n",
       "      <td>26.99</td>\n",
       "      <td>26.99</td>\n",
       "      <td>26.99</td>\n",
       "      <td>20.49</td>\n",
       "      <td>26.99</td>\n",
       "      <td>26.95</td>\n",
       "      <td>24.90</td>\n",
       "      <td>...</td>\n",
       "      <td>26.43</td>\n",
       "      <td>27.14</td>\n",
       "      <td>26.81</td>\n",
       "      <td>28.03</td>\n",
       "      <td>26.60</td>\n",
       "      <td>26.60</td>\n",
       "      <td>27.99</td>\n",
       "      <td>26.74</td>\n",
       "      <td>26.50</td>\n",
       "      <td>26.92</td>\n",
       "    </tr>\n",
       "    <tr>\n",
       "      <th>2</th>\n",
       "      <td>LMNT Zero Sugar Electrolytes - Citrus Salt | D...</td>\n",
       "      <td>electrolyte replacements</td>\n",
       "      <td>B07TT8B1JJ</td>\n",
       "      <td>45.00</td>\n",
       "      <td>45.00</td>\n",
       "      <td>45.00</td>\n",
       "      <td>30.57</td>\n",
       "      <td>30.57</td>\n",
       "      <td>30.57</td>\n",
       "      <td>43.50</td>\n",
       "      <td>...</td>\n",
       "      <td>44.44</td>\n",
       "      <td>48.30</td>\n",
       "      <td>45.99</td>\n",
       "      <td>44.04</td>\n",
       "      <td>43.49</td>\n",
       "      <td>40.09</td>\n",
       "      <td>38.35</td>\n",
       "      <td>42.31</td>\n",
       "      <td>40.28</td>\n",
       "      <td>40.85</td>\n",
       "    </tr>\n",
       "    <tr>\n",
       "      <th>3</th>\n",
       "      <td>Scott ComfortPlus Toilet Paper, 12 Double Roll...</td>\n",
       "      <td>toilet paper</td>\n",
       "      <td>B07BGLT25K</td>\n",
       "      <td>15.46</td>\n",
       "      <td>21.88</td>\n",
       "      <td>18.25</td>\n",
       "      <td>17.31</td>\n",
       "      <td>15.67</td>\n",
       "      <td>16.91</td>\n",
       "      <td>16.20</td>\n",
       "      <td>...</td>\n",
       "      <td>5.99</td>\n",
       "      <td>5.99</td>\n",
       "      <td>5.99</td>\n",
       "      <td>5.99</td>\n",
       "      <td>5.99</td>\n",
       "      <td>5.81</td>\n",
       "      <td>9.54</td>\n",
       "      <td>9.22</td>\n",
       "      <td>6.22</td>\n",
       "      <td>6.30</td>\n",
       "    </tr>\n",
       "    <tr>\n",
       "      <th>4</th>\n",
       "      <td>Charmin Ultra Soft Cushiony Touch Toilet Paper...</td>\n",
       "      <td>toilet paper</td>\n",
       "      <td>B0798DVT68</td>\n",
       "      <td>37.96</td>\n",
       "      <td>33.11</td>\n",
       "      <td>31.42</td>\n",
       "      <td>28.59</td>\n",
       "      <td>27.01</td>\n",
       "      <td>23.33</td>\n",
       "      <td>23.05</td>\n",
       "      <td>...</td>\n",
       "      <td>35.25</td>\n",
       "      <td>32.99</td>\n",
       "      <td>33.30</td>\n",
       "      <td>34.62</td>\n",
       "      <td>35.49</td>\n",
       "      <td>37.41</td>\n",
       "      <td>29.71</td>\n",
       "      <td>35.11</td>\n",
       "      <td>35.11</td>\n",
       "      <td>34.79</td>\n",
       "    </tr>\n",
       "    <tr>\n",
       "      <th>...</th>\n",
       "      <td>...</td>\n",
       "      <td>...</td>\n",
       "      <td>...</td>\n",
       "      <td>...</td>\n",
       "      <td>...</td>\n",
       "      <td>...</td>\n",
       "      <td>...</td>\n",
       "      <td>...</td>\n",
       "      <td>...</td>\n",
       "      <td>...</td>\n",
       "      <td>...</td>\n",
       "      <td>...</td>\n",
       "      <td>...</td>\n",
       "      <td>...</td>\n",
       "      <td>...</td>\n",
       "      <td>...</td>\n",
       "      <td>...</td>\n",
       "      <td>...</td>\n",
       "      <td>...</td>\n",
       "      <td>...</td>\n",
       "      <td>...</td>\n",
       "    </tr>\n",
       "    <tr>\n",
       "      <th>494</th>\n",
       "      <td>Vitafusion Vitamin D3 Gummy Vitamins for Bone ...</td>\n",
       "      <td>vitamin d</td>\n",
       "      <td>B004XLRTUQ</td>\n",
       "      <td>8.96</td>\n",
       "      <td>8.96</td>\n",
       "      <td>8.96</td>\n",
       "      <td>8.96</td>\n",
       "      <td>8.59</td>\n",
       "      <td>8.74</td>\n",
       "      <td>8.52</td>\n",
       "      <td>...</td>\n",
       "      <td>9.87</td>\n",
       "      <td>9.99</td>\n",
       "      <td>10.65</td>\n",
       "      <td>9.73</td>\n",
       "      <td>9.34</td>\n",
       "      <td>11.49</td>\n",
       "      <td>9.72</td>\n",
       "      <td>8.14</td>\n",
       "      <td>8.98</td>\n",
       "      <td>9.35</td>\n",
       "    </tr>\n",
       "    <tr>\n",
       "      <th>495</th>\n",
       "      <td>MRS. MEYER'S CLEAN DAY Liquid Dish Soap Refill...</td>\n",
       "      <td>dish soap</td>\n",
       "      <td>B07N29X2V7</td>\n",
       "      <td>9.99</td>\n",
       "      <td>25.61</td>\n",
       "      <td>9.98</td>\n",
       "      <td>19.76</td>\n",
       "      <td>16.83</td>\n",
       "      <td>12.58</td>\n",
       "      <td>9.98</td>\n",
       "      <td>...</td>\n",
       "      <td>10.99</td>\n",
       "      <td>16.25</td>\n",
       "      <td>11.78</td>\n",
       "      <td>10.80</td>\n",
       "      <td>11.12</td>\n",
       "      <td>10.74</td>\n",
       "      <td>10.43</td>\n",
       "      <td>10.44</td>\n",
       "      <td>10.28</td>\n",
       "      <td>10.44</td>\n",
       "    </tr>\n",
       "    <tr>\n",
       "      <th>496</th>\n",
       "      <td>Pure Encapsulations Zinc 30 mg - Supplement fo...</td>\n",
       "      <td>diet &amp; sports nutrition</td>\n",
       "      <td>B00083B1DY</td>\n",
       "      <td>13.50</td>\n",
       "      <td>13.80</td>\n",
       "      <td>13.80</td>\n",
       "      <td>13.80</td>\n",
       "      <td>10.35</td>\n",
       "      <td>10.35</td>\n",
       "      <td>10.35</td>\n",
       "      <td>...</td>\n",
       "      <td>15.55</td>\n",
       "      <td>15.54</td>\n",
       "      <td>15.54</td>\n",
       "      <td>15.54</td>\n",
       "      <td>15.54</td>\n",
       "      <td>15.54</td>\n",
       "      <td>15.54</td>\n",
       "      <td>15.54</td>\n",
       "      <td>12.48</td>\n",
       "      <td>14.56</td>\n",
       "    </tr>\n",
       "    <tr>\n",
       "      <th>497</th>\n",
       "      <td>StinkBalm Odor Blocker Original Scent</td>\n",
       "      <td>toothpaste</td>\n",
       "      <td>B07YK7BWQQ</td>\n",
       "      <td>8.99</td>\n",
       "      <td>8.99</td>\n",
       "      <td>8.99</td>\n",
       "      <td>8.99</td>\n",
       "      <td>8.99</td>\n",
       "      <td>8.99</td>\n",
       "      <td>8.99</td>\n",
       "      <td>...</td>\n",
       "      <td>8.99</td>\n",
       "      <td>8.99</td>\n",
       "      <td>8.99</td>\n",
       "      <td>8.99</td>\n",
       "      <td>8.99</td>\n",
       "      <td>8.99</td>\n",
       "      <td>8.99</td>\n",
       "      <td>8.99</td>\n",
       "      <td>8.99</td>\n",
       "      <td>8.99</td>\n",
       "    </tr>\n",
       "    <tr>\n",
       "      <th>498</th>\n",
       "      <td>Depend Incontinence Guards/Incontinence Pads f...</td>\n",
       "      <td>pads</td>\n",
       "      <td>B087DPD3LD</td>\n",
       "      <td>40.85</td>\n",
       "      <td>35.34</td>\n",
       "      <td>35.63</td>\n",
       "      <td>36.16</td>\n",
       "      <td>47.82</td>\n",
       "      <td>46.52</td>\n",
       "      <td>50.82</td>\n",
       "      <td>...</td>\n",
       "      <td>42.85</td>\n",
       "      <td>46.30</td>\n",
       "      <td>42.31</td>\n",
       "      <td>36.04</td>\n",
       "      <td>43.36</td>\n",
       "      <td>30.22</td>\n",
       "      <td>29.23</td>\n",
       "      <td>27.61</td>\n",
       "      <td>41.72</td>\n",
       "      <td>41.03</td>\n",
       "    </tr>\n",
       "  </tbody>\n",
       "</table>\n",
       "<p>499 rows × 51 columns</p>\n",
       "</div>"
      ],
      "text/plain": [
       "                                         product_title  \\\n",
       "0    Bounty Quick-Size Paper Towels, White, 12 Fami...   \n",
       "1    Amazon Basics 100-Pack AA Alkaline High-Perfor...   \n",
       "2    LMNT Zero Sugar Electrolytes - Citrus Salt | D...   \n",
       "3    Scott ComfortPlus Toilet Paper, 12 Double Roll...   \n",
       "4    Charmin Ultra Soft Cushiony Touch Toilet Paper...   \n",
       "..                                                 ...   \n",
       "494  Vitafusion Vitamin D3 Gummy Vitamins for Bone ...   \n",
       "495  MRS. MEYER'S CLEAN DAY Liquid Dish Soap Refill...   \n",
       "496  Pure Encapsulations Zinc 30 mg - Supplement fo...   \n",
       "497              StinkBalm Odor Blocker Original Scent   \n",
       "498  Depend Incontinence Guards/Incontinence Pads f...   \n",
       "\n",
       "                  subcategory        asin  2021-01  2021-02  2021-03  2021-04  \\\n",
       "0                paper towels  B079VP6DH6    59.61    39.86    30.44    24.89   \n",
       "1                          aa  B01B8R6PF2    26.99    26.99    26.99    20.49   \n",
       "2    electrolyte replacements  B07TT8B1JJ    45.00    45.00    45.00    30.57   \n",
       "3                toilet paper  B07BGLT25K    15.46    21.88    18.25    17.31   \n",
       "4                toilet paper  B0798DVT68    37.96    33.11    31.42    28.59   \n",
       "..                        ...         ...      ...      ...      ...      ...   \n",
       "494                 vitamin d  B004XLRTUQ     8.96     8.96     8.96     8.96   \n",
       "495                 dish soap  B07N29X2V7     9.99    25.61     9.98    19.76   \n",
       "496   diet & sports nutrition  B00083B1DY    13.50    13.80    13.80    13.80   \n",
       "497                toothpaste  B07YK7BWQQ     8.99     8.99     8.99     8.99   \n",
       "498                      pads  B087DPD3LD    40.85    35.34    35.63    36.16   \n",
       "\n",
       "     2021-05  2021-06  2021-07  ...  2024-03  2024-04  2024-05  2024-06  \\\n",
       "0      22.63    21.16    19.74  ...    35.47    35.47    34.12    34.12   \n",
       "1      26.99    26.95    24.90  ...    26.43    27.14    26.81    28.03   \n",
       "2      30.57    30.57    43.50  ...    44.44    48.30    45.99    44.04   \n",
       "3      15.67    16.91    16.20  ...     5.99     5.99     5.99     5.99   \n",
       "4      27.01    23.33    23.05  ...    35.25    32.99    33.30    34.62   \n",
       "..       ...      ...      ...  ...      ...      ...      ...      ...   \n",
       "494     8.59     8.74     8.52  ...     9.87     9.99    10.65     9.73   \n",
       "495    16.83    12.58     9.98  ...    10.99    16.25    11.78    10.80   \n",
       "496    10.35    10.35    10.35  ...    15.55    15.54    15.54    15.54   \n",
       "497     8.99     8.99     8.99  ...     8.99     8.99     8.99     8.99   \n",
       "498    47.82    46.52    50.82  ...    42.85    46.30    42.31    36.04   \n",
       "\n",
       "     2024-07  2024-08  2024-09  2024-10  2024-11  2024-12  \n",
       "0      35.46    33.29    33.29    33.29    35.62    36.61  \n",
       "1      26.60    26.60    27.99    26.74    26.50    26.92  \n",
       "2      43.49    40.09    38.35    42.31    40.28    40.85  \n",
       "3       5.99     5.81     9.54     9.22     6.22     6.30  \n",
       "4      35.49    37.41    29.71    35.11    35.11    34.79  \n",
       "..       ...      ...      ...      ...      ...      ...  \n",
       "494     9.34    11.49     9.72     8.14     8.98     9.35  \n",
       "495    11.12    10.74    10.43    10.44    10.28    10.44  \n",
       "496    15.54    15.54    15.54    15.54    12.48    14.56  \n",
       "497     8.99     8.99     8.99     8.99     8.99     8.99  \n",
       "498    43.36    30.22    29.23    27.61    41.72    41.03  \n",
       "\n",
       "[499 rows x 51 columns]"
      ]
     },
     "execution_count": 165,
     "metadata": {},
     "output_type": "execute_result"
    }
   ],
   "source": [
    "merged_data"
   ]
  },
  {
   "cell_type": "code",
   "execution_count": 166,
   "metadata": {},
   "outputs": [
    {
     "name": "stdout",
     "output_type": "stream",
     "text": [
      "Data saved to data/cleaned_keepa_data/health_and_household_cleaned.csv\n"
     ]
    }
   ],
   "source": [
    "folder_path = \"data/cleaned_keepa_data\"\n",
    "file_path = os.path.join(folder_path, f\"{category}_cleaned.csv\")\n",
    "merged_data.to_csv(file_path, index=False)  \n",
    "\n",
    "print(f\"Data saved to {file_path}\")"
   ]
  },
  {
   "cell_type": "code",
   "execution_count": 167,
   "metadata": {},
   "outputs": [],
   "source": [
    "data_path = Path('data/cleaned_keepa_data') / f'{category}_cleaned.csv'\n",
    "keepa_data = pd.read_csv(data_path)"
   ]
  },
  {
   "cell_type": "code",
   "execution_count": 148,
   "metadata": {},
   "outputs": [],
   "source": [
    "data_path = f'data/cleaned_keepa_data/{category}_cleaned.csv'\n",
    "keepa_data = pd.read_csv(data_path)"
   ]
  },
  {
   "cell_type": "code",
   "execution_count": 149,
>>>>>>> Stashed changes
   "metadata": {},
   "outputs": [
    {
     "data": {
      "text/html": [
       "<div>\n",
       "<style scoped>\n",
       "    .dataframe tbody tr th:only-of-type {\n",
       "        vertical-align: middle;\n",
       "    }\n",
       "\n",
       "    .dataframe tbody tr th {\n",
       "        vertical-align: top;\n",
       "    }\n",
       "\n",
       "    .dataframe thead th {\n",
       "        text-align: right;\n",
       "    }\n",
       "</style>\n",
       "<table border=\"1\" class=\"dataframe\">\n",
       "  <thead>\n",
       "    <tr style=\"text-align: right;\">\n",
       "      <th></th>\n",
       "      <th>product_title</th>\n",
       "      <th>subcategory</th>\n",
       "      <th>asin</th>\n",
       "      <th>2021-01</th>\n",
       "      <th>2021-02</th>\n",
       "      <th>2021-03</th>\n",
       "      <th>2021-04</th>\n",
       "      <th>2021-05</th>\n",
       "      <th>2021-06</th>\n",
       "      <th>2021-07</th>\n",
       "      <th>...</th>\n",
       "      <th>2024-03</th>\n",
       "      <th>2024-04</th>\n",
       "      <th>2024-05</th>\n",
       "      <th>2024-06</th>\n",
       "      <th>2024-07</th>\n",
       "      <th>2024-08</th>\n",
       "      <th>2024-09</th>\n",
       "      <th>2024-10</th>\n",
       "      <th>2024-11</th>\n",
       "      <th>2024-12</th>\n",
       "    </tr>\n",
       "  </thead>\n",
       "  <tbody>\n",
       "    <tr>\n",
       "      <th>0</th>\n",
       "      <td>Bounty Quick-Size Paper Towels, White, 12 Fami...</td>\n",
       "      <td>paper towels</td>\n",
       "      <td>B079VP6DH6</td>\n",
       "      <td>59.61</td>\n",
       "      <td>39.86</td>\n",
       "      <td>30.44</td>\n",
       "      <td>24.89</td>\n",
       "      <td>22.63</td>\n",
       "      <td>21.16</td>\n",
       "      <td>19.74</td>\n",
       "      <td>...</td>\n",
       "      <td>35.47</td>\n",
       "      <td>35.47</td>\n",
       "      <td>34.12</td>\n",
       "      <td>34.12</td>\n",
       "      <td>35.46</td>\n",
       "      <td>33.29</td>\n",
       "      <td>33.29</td>\n",
       "      <td>33.29</td>\n",
       "      <td>35.62</td>\n",
       "      <td>36.61</td>\n",
       "    </tr>\n",
       "    <tr>\n",
       "      <th>1</th>\n",
       "      <td>Amazon Basics 100-Pack AA Alkaline High-Perfor...</td>\n",
       "      <td>aa</td>\n",
       "      <td>B01B8R6PF2</td>\n",
       "      <td>26.99</td>\n",
       "      <td>26.99</td>\n",
       "      <td>26.99</td>\n",
       "      <td>20.49</td>\n",
       "      <td>26.99</td>\n",
       "      <td>26.95</td>\n",
       "      <td>24.90</td>\n",
       "      <td>...</td>\n",
       "      <td>26.43</td>\n",
       "      <td>27.14</td>\n",
       "      <td>26.81</td>\n",
       "      <td>28.03</td>\n",
       "      <td>26.60</td>\n",
       "      <td>26.60</td>\n",
       "      <td>27.99</td>\n",
       "      <td>26.74</td>\n",
       "      <td>26.50</td>\n",
       "      <td>26.92</td>\n",
       "    </tr>\n",
       "    <tr>\n",
       "      <th>2</th>\n",
       "      <td>LMNT Zero Sugar Electrolytes - Citrus Salt | D...</td>\n",
       "      <td>electrolyte replacements</td>\n",
       "      <td>B07TT8B1JJ</td>\n",
       "      <td>45.00</td>\n",
       "      <td>45.00</td>\n",
       "      <td>45.00</td>\n",
       "      <td>30.57</td>\n",
       "      <td>30.57</td>\n",
       "      <td>30.57</td>\n",
       "      <td>43.50</td>\n",
       "      <td>...</td>\n",
       "      <td>44.44</td>\n",
       "      <td>48.30</td>\n",
       "      <td>45.99</td>\n",
       "      <td>44.04</td>\n",
       "      <td>43.49</td>\n",
       "      <td>40.09</td>\n",
       "      <td>38.35</td>\n",
       "      <td>42.31</td>\n",
       "      <td>40.28</td>\n",
       "      <td>40.85</td>\n",
       "    </tr>\n",
       "    <tr>\n",
       "      <th>3</th>\n",
       "      <td>Scott ComfortPlus Toilet Paper, 12 Double Roll...</td>\n",
       "      <td>toilet paper</td>\n",
       "      <td>B07BGLT25K</td>\n",
       "      <td>15.46</td>\n",
       "      <td>21.88</td>\n",
       "      <td>18.25</td>\n",
       "      <td>17.31</td>\n",
       "      <td>15.67</td>\n",
       "      <td>16.91</td>\n",
       "      <td>16.20</td>\n",
       "      <td>...</td>\n",
       "      <td>5.99</td>\n",
       "      <td>5.99</td>\n",
       "      <td>5.99</td>\n",
       "      <td>5.99</td>\n",
       "      <td>5.99</td>\n",
       "      <td>5.81</td>\n",
       "      <td>9.54</td>\n",
       "      <td>9.22</td>\n",
       "      <td>6.22</td>\n",
       "      <td>6.30</td>\n",
       "    </tr>\n",
       "    <tr>\n",
       "      <th>4</th>\n",
       "      <td>Charmin Ultra Soft Cushiony Touch Toilet Paper...</td>\n",
       "      <td>toilet paper</td>\n",
       "      <td>B0798DVT68</td>\n",
       "      <td>37.96</td>\n",
       "      <td>33.11</td>\n",
       "      <td>31.42</td>\n",
       "      <td>28.59</td>\n",
       "      <td>27.01</td>\n",
       "      <td>23.33</td>\n",
       "      <td>23.05</td>\n",
       "      <td>...</td>\n",
       "      <td>35.25</td>\n",
       "      <td>32.99</td>\n",
       "      <td>33.30</td>\n",
       "      <td>34.62</td>\n",
       "      <td>35.49</td>\n",
       "      <td>37.41</td>\n",
       "      <td>29.71</td>\n",
       "      <td>35.11</td>\n",
       "      <td>35.11</td>\n",
       "      <td>34.79</td>\n",
       "    </tr>\n",
       "    <tr>\n",
       "      <th>...</th>\n",
       "      <td>...</td>\n",
       "      <td>...</td>\n",
       "      <td>...</td>\n",
       "      <td>...</td>\n",
       "      <td>...</td>\n",
       "      <td>...</td>\n",
       "      <td>...</td>\n",
       "      <td>...</td>\n",
       "      <td>...</td>\n",
       "      <td>...</td>\n",
       "      <td>...</td>\n",
       "      <td>...</td>\n",
       "      <td>...</td>\n",
       "      <td>...</td>\n",
       "      <td>...</td>\n",
       "      <td>...</td>\n",
       "      <td>...</td>\n",
       "      <td>...</td>\n",
       "      <td>...</td>\n",
       "      <td>...</td>\n",
       "      <td>...</td>\n",
       "    </tr>\n",
       "    <tr>\n",
       "      <th>494</th>\n",
       "      <td>Vitafusion Vitamin D3 Gummy Vitamins for Bone ...</td>\n",
       "      <td>vitamin d</td>\n",
       "      <td>B004XLRTUQ</td>\n",
       "      <td>8.96</td>\n",
       "      <td>8.96</td>\n",
       "      <td>8.96</td>\n",
       "      <td>8.96</td>\n",
       "      <td>8.59</td>\n",
       "      <td>8.74</td>\n",
       "      <td>8.52</td>\n",
       "      <td>...</td>\n",
       "      <td>9.87</td>\n",
       "      <td>9.99</td>\n",
       "      <td>10.65</td>\n",
       "      <td>9.73</td>\n",
       "      <td>9.34</td>\n",
       "      <td>11.49</td>\n",
       "      <td>9.72</td>\n",
       "      <td>8.14</td>\n",
       "      <td>8.98</td>\n",
       "      <td>9.35</td>\n",
       "    </tr>\n",
       "    <tr>\n",
       "      <th>495</th>\n",
       "      <td>MRS. MEYER'S CLEAN DAY Liquid Dish Soap Refill...</td>\n",
       "      <td>dish soap</td>\n",
       "      <td>B07N29X2V7</td>\n",
       "      <td>9.99</td>\n",
       "      <td>25.61</td>\n",
       "      <td>9.98</td>\n",
       "      <td>19.76</td>\n",
       "      <td>16.83</td>\n",
       "      <td>12.58</td>\n",
       "      <td>9.98</td>\n",
       "      <td>...</td>\n",
       "      <td>10.99</td>\n",
       "      <td>16.25</td>\n",
       "      <td>11.78</td>\n",
       "      <td>10.80</td>\n",
       "      <td>11.12</td>\n",
       "      <td>10.74</td>\n",
       "      <td>10.43</td>\n",
       "      <td>10.44</td>\n",
       "      <td>10.28</td>\n",
       "      <td>10.44</td>\n",
       "    </tr>\n",
       "    <tr>\n",
       "      <th>496</th>\n",
       "      <td>Pure Encapsulations Zinc 30 mg - Supplement fo...</td>\n",
       "      <td>diet &amp; sports nutrition</td>\n",
       "      <td>B00083B1DY</td>\n",
       "      <td>13.50</td>\n",
       "      <td>13.80</td>\n",
       "      <td>13.80</td>\n",
       "      <td>13.80</td>\n",
       "      <td>10.35</td>\n",
       "      <td>10.35</td>\n",
       "      <td>10.35</td>\n",
       "      <td>...</td>\n",
       "      <td>15.55</td>\n",
       "      <td>15.54</td>\n",
       "      <td>15.54</td>\n",
       "      <td>15.54</td>\n",
       "      <td>15.54</td>\n",
       "      <td>15.54</td>\n",
       "      <td>15.54</td>\n",
       "      <td>15.54</td>\n",
       "      <td>12.48</td>\n",
       "      <td>14.56</td>\n",
       "    </tr>\n",
       "    <tr>\n",
       "      <th>497</th>\n",
       "      <td>StinkBalm Odor Blocker Original Scent</td>\n",
       "      <td>toothpaste</td>\n",
       "      <td>B07YK7BWQQ</td>\n",
       "      <td>8.99</td>\n",
       "      <td>8.99</td>\n",
       "      <td>8.99</td>\n",
       "      <td>8.99</td>\n",
       "      <td>8.99</td>\n",
       "      <td>8.99</td>\n",
       "      <td>8.99</td>\n",
       "      <td>...</td>\n",
       "      <td>8.99</td>\n",
       "      <td>8.99</td>\n",
       "      <td>8.99</td>\n",
       "      <td>8.99</td>\n",
       "      <td>8.99</td>\n",
       "      <td>8.99</td>\n",
       "      <td>8.99</td>\n",
       "      <td>8.99</td>\n",
       "      <td>8.99</td>\n",
       "      <td>8.99</td>\n",
       "    </tr>\n",
       "    <tr>\n",
       "      <th>498</th>\n",
       "      <td>Depend Incontinence Guards/Incontinence Pads f...</td>\n",
       "      <td>pads</td>\n",
       "      <td>B087DPD3LD</td>\n",
       "      <td>40.85</td>\n",
       "      <td>35.34</td>\n",
       "      <td>35.63</td>\n",
       "      <td>36.16</td>\n",
       "      <td>47.82</td>\n",
       "      <td>46.52</td>\n",
       "      <td>50.82</td>\n",
       "      <td>...</td>\n",
       "      <td>42.85</td>\n",
       "      <td>46.30</td>\n",
       "      <td>42.31</td>\n",
       "      <td>36.04</td>\n",
       "      <td>43.36</td>\n",
       "      <td>30.22</td>\n",
       "      <td>29.23</td>\n",
       "      <td>27.61</td>\n",
       "      <td>41.72</td>\n",
       "      <td>41.03</td>\n",
       "    </tr>\n",
       "  </tbody>\n",
       "</table>\n",
       "<p>499 rows × 51 columns</p>\n",
       "</div>"
      ],
      "text/plain": [
       "                                         product_title  \\\n",
       "0    Bounty Quick-Size Paper Towels, White, 12 Fami...   \n",
       "1    Amazon Basics 100-Pack AA Alkaline High-Perfor...   \n",
       "2    LMNT Zero Sugar Electrolytes - Citrus Salt | D...   \n",
       "3    Scott ComfortPlus Toilet Paper, 12 Double Roll...   \n",
       "4    Charmin Ultra Soft Cushiony Touch Toilet Paper...   \n",
       "..                                                 ...   \n",
       "494  Vitafusion Vitamin D3 Gummy Vitamins for Bone ...   \n",
       "495  MRS. MEYER'S CLEAN DAY Liquid Dish Soap Refill...   \n",
       "496  Pure Encapsulations Zinc 30 mg - Supplement fo...   \n",
       "497              StinkBalm Odor Blocker Original Scent   \n",
       "498  Depend Incontinence Guards/Incontinence Pads f...   \n",
       "\n",
       "                  subcategory        asin  2021-01  2021-02  2021-03  2021-04  \\\n",
       "0                paper towels  B079VP6DH6    59.61    39.86    30.44    24.89   \n",
       "1                          aa  B01B8R6PF2    26.99    26.99    26.99    20.49   \n",
       "2    electrolyte replacements  B07TT8B1JJ    45.00    45.00    45.00    30.57   \n",
       "3                toilet paper  B07BGLT25K    15.46    21.88    18.25    17.31   \n",
       "4                toilet paper  B0798DVT68    37.96    33.11    31.42    28.59   \n",
       "..                        ...         ...      ...      ...      ...      ...   \n",
       "494                 vitamin d  B004XLRTUQ     8.96     8.96     8.96     8.96   \n",
       "495                 dish soap  B07N29X2V7     9.99    25.61     9.98    19.76   \n",
       "496   diet & sports nutrition  B00083B1DY    13.50    13.80    13.80    13.80   \n",
       "497                toothpaste  B07YK7BWQQ     8.99     8.99     8.99     8.99   \n",
       "498                      pads  B087DPD3LD    40.85    35.34    35.63    36.16   \n",
       "\n",
       "     2021-05  2021-06  2021-07  ...  2024-03  2024-04  2024-05  2024-06  \\\n",
       "0      22.63    21.16    19.74  ...    35.47    35.47    34.12    34.12   \n",
       "1      26.99    26.95    24.90  ...    26.43    27.14    26.81    28.03   \n",
       "2      30.57    30.57    43.50  ...    44.44    48.30    45.99    44.04   \n",
       "3      15.67    16.91    16.20  ...     5.99     5.99     5.99     5.99   \n",
       "4      27.01    23.33    23.05  ...    35.25    32.99    33.30    34.62   \n",
       "..       ...      ...      ...  ...      ...      ...      ...      ...   \n",
       "494     8.59     8.74     8.52  ...     9.87     9.99    10.65     9.73   \n",
       "495    16.83    12.58     9.98  ...    10.99    16.25    11.78    10.80   \n",
       "496    10.35    10.35    10.35  ...    15.55    15.54    15.54    15.54   \n",
       "497     8.99     8.99     8.99  ...     8.99     8.99     8.99     8.99   \n",
       "498    47.82    46.52    50.82  ...    42.85    46.30    42.31    36.04   \n",
       "\n",
       "     2024-07  2024-08  2024-09  2024-10  2024-11  2024-12  \n",
       "0      35.46    33.29    33.29    33.29    35.62    36.61  \n",
       "1      26.60    26.60    27.99    26.74    26.50    26.92  \n",
       "2      43.49    40.09    38.35    42.31    40.28    40.85  \n",
       "3       5.99     5.81     9.54     9.22     6.22     6.30  \n",
       "4      35.49    37.41    29.71    35.11    35.11    34.79  \n",
       "..       ...      ...      ...      ...      ...      ...  \n",
       "494     9.34    11.49     9.72     8.14     8.98     9.35  \n",
       "495    11.12    10.74    10.43    10.44    10.28    10.44  \n",
       "496    15.54    15.54    15.54    15.54    12.48    14.56  \n",
       "497     8.99     8.99     8.99     8.99     8.99     8.99  \n",
       "498    43.36    30.22    29.23    27.61    41.72    41.03  \n",
       "\n",
       "[499 rows x 51 columns]"
      ]
     },
<<<<<<< Updated upstream
     "execution_count": 165,
=======
     "execution_count": 149,
>>>>>>> Stashed changes
     "metadata": {},
     "output_type": "execute_result"
    }
   ],
   "source": [
<<<<<<< Updated upstream
    "merged_data"
   ]
  },
  {
   "cell_type": "code",
   "execution_count": 166,
   "metadata": {},
   "outputs": [
    {
     "name": "stdout",
     "output_type": "stream",
     "text": [
      "Data saved to data/cleaned_keepa_data/health_and_household_cleaned.csv\n"
     ]
    }
   ],
   "source": [
    "folder_path = \"data/cleaned_keepa_data\"\n",
    "file_path = os.path.join(folder_path, f\"{category}_cleaned.csv\")\n",
    "merged_data.to_csv(file_path, index=False)  \n",
    "\n",
    "print(f\"Data saved to {file_path}\")"
   ]
=======
    "keepa_data"
   ]
  },
  {
   "cell_type": "code",
   "execution_count": null,
   "metadata": {},
   "outputs": [],
   "source": [
    "data_path = Path('data/cleaned_keepa_data') / f'{category}_cleaned.csv'\n",
    "keepa_data = pd.read_csv(data_path)"
   ]
>>>>>>> Stashed changes
  }
 ],
 "metadata": {
  "kernelspec": {
   "display_name": "dsc80",
   "language": "python",
   "name": "python3"
  },
  "language_info": {
   "codemirror_mode": {
    "name": "ipython",
    "version": 3
   },
   "file_extension": ".py",
   "mimetype": "text/x-python",
   "name": "python",
   "nbconvert_exporter": "python",
   "pygments_lexer": "ipython3",
   "version": "3.12.8"
  }
 },
 "nbformat": 4,
 "nbformat_minor": 2
}
